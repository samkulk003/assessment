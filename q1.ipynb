{
 "cells": [
  {
   "cell_type": "code",
   "execution_count": 17,
   "id": "e55d2959",
   "metadata": {},
   "outputs": [],
   "source": [
    "import pandas as pd"
   ]
  },
  {
   "cell_type": "code",
   "execution_count": 18,
   "id": "e9bf1cb4",
   "metadata": {},
   "outputs": [],
   "source": [
    "df=pd.read_csv(\"device_features.csv\") #reading the file"
   ]
  },
  {
   "cell_type": "code",
   "execution_count": 19,
   "id": "7f454de0",
   "metadata": {},
   "outputs": [
    {
     "data": {
      "text/html": [
       "<div>\n",
       "<style scoped>\n",
       "    .dataframe tbody tr th:only-of-type {\n",
       "        vertical-align: middle;\n",
       "    }\n",
       "\n",
       "    .dataframe tbody tr th {\n",
       "        vertical-align: top;\n",
       "    }\n",
       "\n",
       "    .dataframe thead th {\n",
       "        text-align: right;\n",
       "    }\n",
       "</style>\n",
       "<table border=\"1\" class=\"dataframe\">\n",
       "  <thead>\n",
       "    <tr style=\"text-align: right;\">\n",
       "      <th></th>\n",
       "      <th>oem_id</th>\n",
       "      <th>brand</th>\n",
       "      <th>model</th>\n",
       "      <th>released_date</th>\n",
       "      <th>announced_date</th>\n",
       "      <th>hardware_designer</th>\n",
       "      <th>manufacturer</th>\n",
       "      <th>codename</th>\n",
       "      <th>general_extras</th>\n",
       "      <th>device_category</th>\n",
       "      <th>...</th>\n",
       "      <th>usb_connector</th>\n",
       "      <th>max_charging_power</th>\n",
       "      <th>bluetooth</th>\n",
       "      <th>WLAN</th>\n",
       "      <th>additional_sensors</th>\n",
       "      <th>battery_capacity</th>\n",
       "      <th>market_regions</th>\n",
       "      <th>info_added_date</th>\n",
       "      <th>x_resolution</th>\n",
       "      <th>y_resolution</th>\n",
       "    </tr>\n",
       "  </thead>\n",
       "  <tbody>\n",
       "    <tr>\n",
       "      <th>0</th>\n",
       "      <td>A135UZKAUSC</td>\n",
       "      <td>Samsung</td>\n",
       "      <td>SM-A135U Galaxy A13 2022 Standard Edition TD-L...</td>\n",
       "      <td>28-03-22</td>\n",
       "      <td>04-03-22</td>\n",
       "      <td>Samsung Electronics</td>\n",
       "      <td>Samsung Electronics</td>\n",
       "      <td>Samsung A135</td>\n",
       "      <td>Haptic touch feedback</td>\n",
       "      <td>Smartphone</td>\n",
       "      <td>...</td>\n",
       "      <td>USB C reversible</td>\n",
       "      <td>15.0</td>\n",
       "      <td>Bluetooth 5.0</td>\n",
       "      <td>802.11a,802.11b,802.11g,802.11n,802.11ac</td>\n",
       "      <td>FP sensor,L sensor,P sensor</td>\n",
       "      <td>5000 mAh battery</td>\n",
       "      <td>North America</td>\n",
       "      <td>02-08-23 18:10</td>\n",
       "      <td>1080</td>\n",
       "      <td>2408</td>\n",
       "    </tr>\n",
       "    <tr>\n",
       "      <th>1</th>\n",
       "      <td>A135UZKDXAA</td>\n",
       "      <td>Samsung</td>\n",
       "      <td>SM-A135U1/DS Galaxy A13 2022 Standard Edition ...</td>\n",
       "      <td>28-03-22</td>\n",
       "      <td>04-03-22</td>\n",
       "      <td>Samsung Electronics</td>\n",
       "      <td>Samsung Electronics</td>\n",
       "      <td>Samsung A135</td>\n",
       "      <td>Haptic touch feedback</td>\n",
       "      <td>Smartphone</td>\n",
       "      <td>...</td>\n",
       "      <td>USB C reversible</td>\n",
       "      <td>15.0</td>\n",
       "      <td>Bluetooth 5.0</td>\n",
       "      <td>802.11a,802.11b,802.11g,802.11n,802.11ac</td>\n",
       "      <td>FP sensor,L sensor,P sensor</td>\n",
       "      <td>5000 mAh battery</td>\n",
       "      <td>North America</td>\n",
       "      <td>01-08-23 09:00</td>\n",
       "      <td>1080</td>\n",
       "      <td>2408</td>\n",
       "    </tr>\n",
       "    <tr>\n",
       "      <th>2</th>\n",
       "      <td>A135UZKAVZW</td>\n",
       "      <td>Samsung</td>\n",
       "      <td>SM-A135U Galaxy A13 2022 Standard Edition TD-L...</td>\n",
       "      <td>28-03-22</td>\n",
       "      <td>04-03-22</td>\n",
       "      <td>Samsung Electronics</td>\n",
       "      <td>Samsung Electronics</td>\n",
       "      <td>Samsung A135</td>\n",
       "      <td>Haptic touch feedback</td>\n",
       "      <td>Smartphone</td>\n",
       "      <td>...</td>\n",
       "      <td>USB C reversible</td>\n",
       "      <td>15.0</td>\n",
       "      <td>Bluetooth 5.0</td>\n",
       "      <td>802.11a,802.11b,802.11g,802.11n,802.11ac</td>\n",
       "      <td>FP sensor,L sensor,P sensor</td>\n",
       "      <td>5000 mAh battery</td>\n",
       "      <td>North America</td>\n",
       "      <td>31-07-23 23:26</td>\n",
       "      <td>1080</td>\n",
       "      <td>2408</td>\n",
       "    </tr>\n",
       "    <tr>\n",
       "      <th>3</th>\n",
       "      <td>PAYB0000JP</td>\n",
       "      <td>Motorola</td>\n",
       "      <td>Moto G53j 5G 2023 Dual SIM TD-LTE JP 128GB XT2...</td>\n",
       "      <td>16-06-23</td>\n",
       "      <td>01-05-23</td>\n",
       "      <td>Lenovo</td>\n",
       "      <td>Lenovo</td>\n",
       "      <td>Motorola Penang</td>\n",
       "      <td>Haptic touch feedback</td>\n",
       "      <td>Smartphone</td>\n",
       "      <td>...</td>\n",
       "      <td>USB C reversible</td>\n",
       "      <td>30.0</td>\n",
       "      <td>Bluetooth 5.1</td>\n",
       "      <td>802.11a,802.11b,802.11g,802.11n,802.11ac</td>\n",
       "      <td>FP sensor,L sensor,P sensor</td>\n",
       "      <td>5000 mAh battery</td>\n",
       "      <td>Asia</td>\n",
       "      <td>23-07-23 19:14</td>\n",
       "      <td>720</td>\n",
       "      <td>1600</td>\n",
       "    </tr>\n",
       "    <tr>\n",
       "      <th>4</th>\n",
       "      <td>MC400</td>\n",
       "      <td>Motorola</td>\n",
       "      <td>Moto G53 5G 2022 Premium Edition TD-LTE LATAM ...</td>\n",
       "      <td>01-01-23</td>\n",
       "      <td>01-12-22</td>\n",
       "      <td>Lenovo</td>\n",
       "      <td>Lenovo</td>\n",
       "      <td>Motorola Penang</td>\n",
       "      <td>Haptic touch feedback</td>\n",
       "      <td>Smartphone</td>\n",
       "      <td>...</td>\n",
       "      <td>USB C reversible</td>\n",
       "      <td>18.0</td>\n",
       "      <td>Bluetooth 5.1</td>\n",
       "      <td>802.11a,802.11b,802.11g,802.11n,802.11ac</td>\n",
       "      <td>FP sensor,L sensor,P sensor</td>\n",
       "      <td>5000 mAh battery</td>\n",
       "      <td>North America,South America</td>\n",
       "      <td>23-07-23 15:52</td>\n",
       "      <td>720</td>\n",
       "      <td>1600</td>\n",
       "    </tr>\n",
       "  </tbody>\n",
       "</table>\n",
       "<p>5 rows × 48 columns</p>\n",
       "</div>"
      ],
      "text/plain": [
       "        oem_id     brand                                              model  \\\n",
       "0  A135UZKAUSC   Samsung  SM-A135U Galaxy A13 2022 Standard Edition TD-L...   \n",
       "1  A135UZKDXAA   Samsung  SM-A135U1/DS Galaxy A13 2022 Standard Edition ...   \n",
       "2  A135UZKAVZW   Samsung  SM-A135U Galaxy A13 2022 Standard Edition TD-L...   \n",
       "3   PAYB0000JP  Motorola  Moto G53j 5G 2023 Dual SIM TD-LTE JP 128GB XT2...   \n",
       "4        MC400  Motorola  Moto G53 5G 2022 Premium Edition TD-LTE LATAM ...   \n",
       "\n",
       "  released_date announced_date    hardware_designer         manufacturer  \\\n",
       "0      28-03-22       04-03-22  Samsung Electronics  Samsung Electronics   \n",
       "1      28-03-22       04-03-22  Samsung Electronics  Samsung Electronics   \n",
       "2      28-03-22       04-03-22  Samsung Electronics  Samsung Electronics   \n",
       "3      16-06-23       01-05-23               Lenovo               Lenovo   \n",
       "4      01-01-23       01-12-22               Lenovo               Lenovo   \n",
       "\n",
       "          codename         general_extras device_category  ...  \\\n",
       "0     Samsung A135  Haptic touch feedback      Smartphone  ...   \n",
       "1     Samsung A135  Haptic touch feedback      Smartphone  ...   \n",
       "2     Samsung A135  Haptic touch feedback      Smartphone  ...   \n",
       "3  Motorola Penang  Haptic touch feedback      Smartphone  ...   \n",
       "4  Motorola Penang  Haptic touch feedback      Smartphone  ...   \n",
       "\n",
       "      usb_connector  max_charging_power      bluetooth  \\\n",
       "0  USB C reversible                15.0  Bluetooth 5.0   \n",
       "1  USB C reversible                15.0  Bluetooth 5.0   \n",
       "2  USB C reversible                15.0  Bluetooth 5.0   \n",
       "3  USB C reversible                30.0  Bluetooth 5.1   \n",
       "4  USB C reversible                18.0  Bluetooth 5.1   \n",
       "\n",
       "                                       WLAN           additional_sensors  \\\n",
       "0  802.11a,802.11b,802.11g,802.11n,802.11ac  FP sensor,L sensor,P sensor   \n",
       "1  802.11a,802.11b,802.11g,802.11n,802.11ac  FP sensor,L sensor,P sensor   \n",
       "2  802.11a,802.11b,802.11g,802.11n,802.11ac  FP sensor,L sensor,P sensor   \n",
       "3  802.11a,802.11b,802.11g,802.11n,802.11ac  FP sensor,L sensor,P sensor   \n",
       "4  802.11a,802.11b,802.11g,802.11n,802.11ac  FP sensor,L sensor,P sensor   \n",
       "\n",
       "   battery_capacity               market_regions info_added_date x_resolution  \\\n",
       "0  5000 mAh battery                North America  02-08-23 18:10         1080   \n",
       "1  5000 mAh battery                North America  01-08-23 09:00         1080   \n",
       "2  5000 mAh battery                North America  31-07-23 23:26         1080   \n",
       "3  5000 mAh battery                         Asia  23-07-23 19:14          720   \n",
       "4  5000 mAh battery  North America,South America  23-07-23 15:52          720   \n",
       "\n",
       "  y_resolution  \n",
       "0         2408  \n",
       "1         2408  \n",
       "2         2408  \n",
       "3         1600  \n",
       "4         1600  \n",
       "\n",
       "[5 rows x 48 columns]"
      ]
     },
     "execution_count": 19,
     "metadata": {},
     "output_type": "execute_result"
    }
   ],
   "source": [
    "df.head() #1st five rows"
   ]
  },
  {
   "cell_type": "code",
   "execution_count": 20,
   "id": "6f9005b8",
   "metadata": {},
   "outputs": [
    {
     "data": {
      "text/plain": [
       "Index(['oem_id', 'brand', 'model', 'released_date', 'announced_date',\n",
       "       'hardware_designer', 'manufacturer', 'codename', 'general_extras',\n",
       "       'device_category', 'width', 'height', 'depth', 'dimensions',\n",
       "       'weight_gram', 'price', 'price_currency', 'platform',\n",
       "       'operating_system', 'software_extras', 'cpu_clock', 'cpu', 'ram_type',\n",
       "       'ram_capacity', 'non_volatile_memory_capacity', 'display_hole',\n",
       "       'display_diagonal', 'horizontal_full_bezel_width',\n",
       "       'display_area_utilization', 'pixel_density', 'display_type',\n",
       "       'number_of_display_scales', 'display_refresh_rate',\n",
       "       'graphical_controller', 'supported_cellular_bands', 'sim_card_slot',\n",
       "       'usb', 'usb_services', 'usb_connector', 'max_charging_power',\n",
       "       'bluetooth', 'WLAN', 'additional_sensors', 'battery_capacity',\n",
       "       'market_regions', 'info_added_date', 'x_resolution', 'y_resolution'],\n",
       "      dtype='object')"
      ]
     },
     "execution_count": 20,
     "metadata": {},
     "output_type": "execute_result"
    }
   ],
   "source": [
    "df.columns #checking out the different columns"
   ]
  },
  {
   "cell_type": "code",
   "execution_count": 21,
   "id": "501ce7b9",
   "metadata": {},
   "outputs": [
    {
     "data": {
      "text/plain": [
       "array(['USD', 'JPY', 'MXN', 'BRL', 'EUR', 'INR', 'GBP', 'CNY', 'TWD',\n",
       "       'THB', 'CAD', 'SGD', 'IDR', 'AED', 'TRY', 'MYR', 'HKD', 'AUD',\n",
       "       'KRW', 'CHF', 'ARS', 'KZT', 'HUF', 'PLN', 'RUB'], dtype=object)"
      ]
     },
     "execution_count": 21,
     "metadata": {},
     "output_type": "execute_result"
    }
   ],
   "source": [
    "df['price_currency'].unique() #checking out unique currency to convert to usd"
   ]
  },
  {
   "cell_type": "code",
   "execution_count": 22,
   "id": "e8e4b46c",
   "metadata": {},
   "outputs": [],
   "source": [
    "exchange_rates = {\n",
    "    'USD': 1.0,\n",
    "    'JPY': 0.0073,   # Japanese Yen\n",
    "    'MXN': 0.050,    # Mexican Peso\n",
    "    'BRL': 0.19,     # Brazilian Real\n",
    "    'EUR': 1.05,     # Euro\n",
    "    'INR': 0.013,    # Indian Rupee\n",
    "    'GBP': 1.22,     # British Pound\n",
    "    'CNY': 0.14,     # Chinese Yuan\n",
    "    'TWD': 0.033,    # Taiwan Dollar\n",
    "    'THB': 0.028,    # Thai Baht\n",
    "    'CAD': 0.74,     # Canadian Dollar\n",
    "    'SGD': 0.72,     # Singapore Dollar\n",
    "    'IDR': 0.000068, # Indonesian Rupiah\n",
    "    'AED': 0.27,     # UAE Dirham\n",
    "    'TRY': 0.054,    # Turkish Lira\n",
    "    'MYR': 0.23,     # Malaysian Ringgit\n",
    "    'HKD': 0.13,     # Hong Kong Dollar\n",
    "    'AUD': 0.69,     # Australian Dollar\n",
    "    'KRW': 0.00077,  # South Korean Won\n",
    "    'CHF': 1.04,     # Swiss Franc\n",
    "    'ARS': 0.0083,   # Argentine Peso\n",
    "    'KZT': 0.0021,   # Kazakhstani Tenge\n",
    "    'HUF': 0.0026,   # Hungarian Forint\n",
    "    'PLN': 0.24,     # Polish Zloty\n",
    "    'RUB': 0.016     # Russian Ruble\n",
    "}\n",
    "#dict of exchange rates for conversion"
   ]
  },
  {
   "cell_type": "code",
   "execution_count": 23,
   "id": "ce8c3960",
   "metadata": {},
   "outputs": [
    {
     "data": {
      "text/plain": [
       "0       1.0000\n",
       "1       1.0000\n",
       "2       1.0000\n",
       "3       0.0073\n",
       "4       0.0500\n",
       "         ...  \n",
       "1266    1.0500\n",
       "1267    1.2200\n",
       "1268    1.2200\n",
       "1269    1.0000\n",
       "1270    1.0000\n",
       "Name: exchange_rate, Length: 1271, dtype: float64"
      ]
     },
     "execution_count": 23,
     "metadata": {},
     "output_type": "execute_result"
    }
   ],
   "source": [
    "df['exchange_rate']=df['price_currency'].map(exchange_rates)  #mapping it in the dataset\n",
    "df['exchange_rate']"
   ]
  },
  {
   "cell_type": "code",
   "execution_count": 24,
   "id": "182b4214",
   "metadata": {},
   "outputs": [],
   "source": [
    "df['price_usd']=df['price']*df['exchange_rate']  #converting to usd"
   ]
  },
  {
   "cell_type": "code",
   "execution_count": 25,
   "id": "c812c4fb",
   "metadata": {},
   "outputs": [
    {
     "data": {
      "text/plain": [
       "brand\n",
       "Apple        1234.773232\n",
       "Asus          954.025196\n",
       "BBK           675.948000\n",
       "LG            187.495000\n",
       "Lenovo        539.909633\n",
       "Microsoft    1679.520000\n",
       "Motorola      342.107612\n",
       "Nokia         264.894841\n",
       "Samsung       959.529657\n",
       "Sharp        1174.716000\n",
       "Sony         1352.380909\n",
       "T-Mobile      194.990000\n",
       "Xiaomi        349.298970\n",
       "ZTE           761.145000\n",
       "Name: price_usd, dtype: float64"
      ]
     },
     "execution_count": 25,
     "metadata": {},
     "output_type": "execute_result"
    }
   ],
   "source": [
    "avg_price_per_brand=df.groupby('brand')['price_usd'].mean() #finding mean and grouping it with respective brands\n",
    "avg_price_per_brand"
   ]
  },
  {
   "cell_type": "code",
   "execution_count": 26,
   "id": "b7b660b0",
   "metadata": {},
   "outputs": [],
   "source": []
  },
  {
   "cell_type": "code",
   "execution_count": 27,
   "id": "37b24953",
   "metadata": {},
   "outputs": [],
   "source": []
  },
  {
   "cell_type": "code",
   "execution_count": null,
   "id": "35fc8528",
   "metadata": {},
   "outputs": [],
   "source": []
  },
  {
   "cell_type": "code",
   "execution_count": 29,
   "id": "02805c8f",
   "metadata": {},
   "outputs": [],
   "source": []
  },
  {
   "cell_type": "code",
   "execution_count": 30,
   "id": "0b358a45",
   "metadata": {},
   "outputs": [],
   "source": []
  },
  {
   "cell_type": "code",
   "execution_count": null,
   "id": "0d5b2353",
   "metadata": {},
   "outputs": [],
   "source": []
  },
  {
   "cell_type": "code",
   "execution_count": null,
   "id": "9711c70b",
   "metadata": {},
   "outputs": [],
   "source": []
  },
  {
   "cell_type": "code",
   "execution_count": null,
   "id": "4100d348",
   "metadata": {},
   "outputs": [],
   "source": []
  },
  {
   "cell_type": "code",
   "execution_count": null,
   "id": "b2d0c037",
   "metadata": {},
   "outputs": [],
   "source": []
  }
 ],
 "metadata": {
  "kernelspec": {
   "display_name": "Python 3 (ipykernel)",
   "language": "python",
   "name": "python3"
  },
  "language_info": {
   "codemirror_mode": {
    "name": "ipython",
    "version": 3
   },
   "file_extension": ".py",
   "mimetype": "text/x-python",
   "name": "python",
   "nbconvert_exporter": "python",
   "pygments_lexer": "ipython3",
   "version": "3.11.4"
  }
 },
 "nbformat": 4,
 "nbformat_minor": 5
}
